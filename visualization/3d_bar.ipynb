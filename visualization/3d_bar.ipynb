{
 "cells": [
  {
   "cell_type": "code",
   "execution_count": null,
   "metadata": {},
   "outputs": [],
   "source": [
    "import matplotlib.pyplot as plt\n",
    "from mpl_toolkits.mplot3d import Axes3D\n",
    "import numpy as np\n",
    "\n",
    "# Data from the LaTeX table\n",
    "c_values = [\"$10^{-3}$\", \"$10^{-2}$\", \"$0.1$\", \"$1$\", \"$10$\"]\n",
    "r2_values = [\"$10^3$\", \"$10^2$\", \"$10$\", \"$1$\", \"$0.1$\"]\n",
    "data = [\n",
    "    [0.653, 0.676, 0.735, 0.742, 0.734],\n",
    "    [np.nan, 0.731, 0.736, 0.745, 0.738],\n",
    "    [np.nan, np.nan, 0.744, 0.745, 0.744],\n",
    "    [np.nan, np.nan, np.nan, 0.700, 0.733],\n",
    "    [np.nan, np.nan, np.nan, np.nan, 0.527]\n",
    "]\n",
    "\n",
    "# Convert the data to a NumPy array for easier manipulation\n",
    "data_array = np.array(data)\n",
    "\n",
    "# Creating meshgrid for the x, y coordinates\n",
    "c_indices, r2_indices = np.meshgrid(np.arange(len(c_values)), np.arange(len(r2_values)))\n",
    "\n",
    "# Flatten the meshgrid and filter out NaN values\n",
    "x = c_indices.flatten()\n",
    "y = r2_indices.flatten()\n",
    "z = np.zeros_like(x)\n",
    "dx = dy = 0.5\n",
    "dz = data_array.flatten()\n",
    "\n",
    "# Removing NaN values\n",
    "mask = ~np.isnan(dz)\n",
    "x, y, z, dz = x[mask], y[mask], z[mask], dz[mask]\n",
    "\n",
    "# Creating the 3D bar plot\n",
    "fig = plt.figure(figsize=(10, 6))\n",
    "ax = fig.add_subplot(111, projection='3d')\n",
    "\n",
    "# Bar plot\n",
    "ax.bar3d(x, y, z, dx, dy, dz)\n",
    "\n",
    "# Setting the tick labels\n",
    "ax.set_xticks(np.arange(len(c_values)))\n",
    "ax.set_xticklabels(c_values)\n",
    "ax.set_xlabel('c')\n",
    "\n",
    "ax.set_yticks(np.arange(len(r2_values)))\n",
    "ax.set_yticklabels(r2_values)\n",
    "ax.set_ylabel('r^2')\n",
    "\n",
    "ax.set_zlabel('Values')\n",
    "\n",
    "plt.title('3D Bar Plot Visualization')\n",
    "\n",
    "plt.show()\n"
   ]
  },
  {
   "cell_type": "code",
   "execution_count": null,
   "metadata": {},
   "outputs": [],
   "source": []
  }
 ],
 "metadata": {
  "kernelspec": {
   "display_name": "hashing",
   "language": "python",
   "name": "python3"
  },
  "language_info": {
   "name": "python",
   "version": "3.11.6"
  }
 },
 "nbformat": 4,
 "nbformat_minor": 2
}
