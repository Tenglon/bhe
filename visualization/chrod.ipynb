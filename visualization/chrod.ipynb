{
 "cells": [
  {
   "cell_type": "code",
   "execution_count": 18,
   "metadata": {},
   "outputs": [],
   "source": [
    "import torch\n",
    "from utils import get_son2parent\n",
    "from utils import Node\n",
    "\n",
    "\n",
    "hierarchy_csv = '/local/tlong/poincare_emb_2023/cifar100_hierarchy.csv'\n",
    "emb_path = '/local/tlong/poincare_emb_2023/embs/cifar100_hierarchy_256d.pth'\n",
    "\n",
    "son2parent = get_son2parent(hierarchy_csv)\n",
    "emb_data = torch.load(emb_path)\n",
    "embeddings = emb_data['embeddings']\n",
    "objects = emb_data['objects']\n",
    "\n",
    "root = Node('Root', son2parent)\n",
    "\n",
    "# Recursively get the names of the nodes, keep only leaf nodes\n",
    "def get_names(node):\n",
    "    if node.children:\n",
    "        return [get_names(item) for item in node.children]\n",
    "    else:\n",
    "        return node.name\n",
    "\n",
    "names = get_names(root)\n",
    "names = [item for sublist in names for item in sublist]\n"
   ]
  },
  {
   "cell_type": "code",
   "execution_count": 27,
   "metadata": {},
   "outputs": [],
   "source": [
    "emb = torch.zeros(len(names), embeddings.shape[1])\n",
    "for i, name in enumerate(names):\n",
    "    emb[i] = embeddings[objects.index(name)]"
   ]
  },
  {
   "cell_type": "code",
   "execution_count": 46,
   "metadata": {},
   "outputs": [],
   "source": [
    "\n",
    "import plotapi\n",
    "# %matplotlib inline\n",
    "# plotapi.api_key(\"1f5b3e32-b241-4425-bb4b-62aaa87ba87f\")\n",
    "\n",
    "from plotapi import Chord\n",
    "  \n",
    "# Chord.api_key(\"1f5b3e32-b241-4425-bb4b-62aaa87ba87f\")\n",
    "similarity = torch.mm(emb, emb.t()) / emb.norm(dim=1) / emb.norm(dim=1, keepdim=True)\n",
    "similarity[similarity < 0.3] = 0\n",
    "similarity = similarity - torch.diag(similarity.diag())\n",
    "\n",
    "similarity = similarity.numpy().tolist()\n",
    "# Visualization code here\n",
    "Chord(similarity, names).to_html()\n",
    "\n"
   ]
  },
  {
   "cell_type": "markdown",
   "metadata": {},
   "source": []
  }
 ],
 "metadata": {
  "kernelspec": {
   "display_name": "tfm",
   "language": "python",
   "name": "python3"
  },
  "language_info": {
   "codemirror_mode": {
    "name": "ipython",
    "version": 3
   },
   "file_extension": ".py",
   "mimetype": "text/x-python",
   "name": "python",
   "nbconvert_exporter": "python",
   "pygments_lexer": "ipython3",
   "version": "3.11.3"
  },
  "orig_nbformat": 4
 },
 "nbformat": 4,
 "nbformat_minor": 2
}
